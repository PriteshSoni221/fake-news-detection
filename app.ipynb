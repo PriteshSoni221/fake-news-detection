{
 "cells": [
  {
   "cell_type": "markdown",
   "id": "b03e427308633abb",
   "metadata": {},
   "source": [
    "### Data Description\n",
    "\n",
    "train.csv: A full training dataset with the following attributes:\n",
    "\n",
    "id: unique id for a news article \\\n",
    "title: the title of a news article \\\n",
    "author: author of the news article \\\n",
    "text: the text of the article; could be incomplete \\\n",
    "label: a label that marks the article as potentially unreliable \\\n",
    "    1: unreliable \\\n",
    "    0: reliable \n"
   ]
  },
  {
   "cell_type": "markdown",
   "id": "a84f3dd7",
   "metadata": {},
   "source": [
    "### Importing the dependencies"
   ]
  },
  {
   "cell_type": "code",
   "execution_count": null,
   "id": "612189bf",
   "metadata": {},
   "outputs": [],
   "source": [
    "import numpy as np\n",
    "import pandas as pd\n",
    "import re\n",
    "from nltk.corpus import stopwords\n",
    "from nltk.stem.porter import PorterStemmer\n",
    "from sklearn.feature_extraction.text import TfidfVectorizer\n",
    "from sklearn.model_selection import train_test_split\n",
    "from sklearn.linear_model import LogisticRegression\n",
    "from sklearn.metrics import accuracy_score"
   ]
  },
  {
   "cell_type": "code",
   "execution_count": null,
   "id": "70541d3c",
   "metadata": {},
   "outputs": [],
   "source": [
    "import nltk\n",
    "nltk.download('stopwords')\n",
    "# print(stopwords.words(fileids='english'))"
   ]
  },
  {
   "cell_type": "markdown",
   "id": "91d9988a",
   "metadata": {},
   "source": [
    "### Data pre-processing"
   ]
  },
  {
   "cell_type": "markdown",
   "id": "72cbca1f",
   "metadata": {},
   "source": [
    "#### Loading the dataset"
   ]
  },
  {
   "cell_type": "code",
   "execution_count": null,
   "id": "6acd6883",
   "metadata": {},
   "outputs": [],
   "source": [
    "news_dataset =  pd.read_csv('train.csv')\n",
    "news_dataset.shape"
   ]
  },
  {
   "cell_type": "markdown",
   "id": "7477e6d9",
   "metadata": {},
   "source": [
    "#### Data analysis"
   ]
  },
  {
   "cell_type": "code",
   "execution_count": null,
   "id": "7997a84c",
   "metadata": {},
   "outputs": [],
   "source": [
    "news_dataset.head()"
   ]
  },
  {
   "cell_type": "markdown",
   "id": "762fee02",
   "metadata": {},
   "source": [
    "Either we can impute the dataset or we can remove the rows with null values"
   ]
  },
  {
   "cell_type": "markdown",
   "id": "7de24685",
   "metadata": {},
   "source": [
    "### In first approach, we use title and author to check for fake news and just impute with empty string"
   ]
  },
  {
   "cell_type": "code",
   "execution_count": null,
   "id": "6b1a9e5d",
   "metadata": {},
   "outputs": [],
   "source": [
    "news_dataset = news_dataset.fillna('')\n",
    "news_dataset.isna().sum()"
   ]
  },
  {
   "cell_type": "markdown",
   "id": "465958ad",
   "metadata": {},
   "source": [
    "merging the author name and news title"
   ]
  },
  {
   "cell_type": "code",
   "execution_count": null,
   "id": "e73a1d80",
   "metadata": {},
   "outputs": [],
   "source": [
    "news_dataset['content'] = news_dataset['author'] + ' ' +  news_dataset['title']"
   ]
  },
  {
   "cell_type": "code",
   "execution_count": null,
   "id": "15f907cb",
   "metadata": {},
   "outputs": [],
   "source": [
    "news_dataset.head()"
   ]
  },
  {
   "cell_type": "markdown",
   "id": "ca25295b",
   "metadata": {},
   "source": [
    "#### Splitting Dataset"
   ]
  },
  {
   "cell_type": "code",
   "execution_count": null,
   "id": "cea33438",
   "metadata": {},
   "outputs": [],
   "source": [
    "X = news_dataset.drop(columns='label', axis=1)\n",
    "y = news_dataset['label']"
   ]
  },
  {
   "cell_type": "markdown",
   "id": "2d895ec1",
   "metadata": {},
   "source": [
    "#### Data pre-processing"
   ]
  },
  {
   "cell_type": "code",
   "execution_count": null,
   "id": "2d70a028",
   "metadata": {},
   "outputs": [],
   "source": [
    "port_stem = PorterStemmer()"
   ]
  },
  {
   "cell_type": "code",
   "execution_count": null,
   "id": "5d83d6bd",
   "metadata": {},
   "outputs": [],
   "source": [
    "def stemming(content):\n",
    "    stemmed_content = re.sub('[^a-zA-Z]', ' ', content)\n",
    "    stemmed_content = stemmed_content.lower()\n",
    "    stemmed_content = stemmed_content.split()\n",
    "    stemmed_content = [port_stem.stem(word) for word in stemmed_content if not word in stopwords.words(fileids='english')]\n",
    "    stemmed_content = ' '.join(stemmed_content)\n",
    "    return stemmed_content"
   ]
  }
 ],
 "metadata": {
  "kernelspec": {
   "display_name": "Python 3",
   "language": "python",
   "name": "python3"
  },
  "language_info": {
   "codemirror_mode": {
    "name": "ipython",
    "version": 3
   },
   "file_extension": ".py",
   "mimetype": "text/x-python",
   "name": "python",
   "nbconvert_exporter": "python",
   "pygments_lexer": "ipython3",
   "version": "3.10.11"
  }
 },
 "nbformat": 4,
 "nbformat_minor": 5
}
