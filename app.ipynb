{
 "cells": [
  {
   "cell_type": "markdown",
   "id": "b03e427308633abb",
   "metadata": {},
   "source": [
    "### Data Description\n",
    "\n",
    "train.csv: A full training dataset with the following attributes:\n",
    "\n",
    "id: unique id for a news article \\\n",
    "title: the title of a news article \\\n",
    "author: author of the news article \\\n",
    "text: the text of the article; could be incomplete \\\n",
    "label: a label that marks the article as potentially unreliable \\\n",
    "    1: unreliable \\\n",
    "    0: reliable \n"
   ]
  },
  {
   "cell_type": "markdown",
   "id": "a84f3dd7",
   "metadata": {},
   "source": [
    "### Importing the dependencies"
   ]
  },
  {
   "cell_type": "code",
   "execution_count": null,
   "id": "612189bf",
   "metadata": {},
   "outputs": [],
   "source": [
    "import numpy as np\n",
    "import pandas as pd\n",
    "import re\n",
    "from nltk.corpus import stopwords\n",
    "from nltk.stem.porter import PorterStemmer\n",
    "from sklearn.feature_extraction.text import TfidfVectorizer\n",
    "from sklearn.model_selection import train_test_split\n",
    "from sklearn.linear_model import LogisticRegression\n",
    "from sklearn.metrics import accuracy_score"
   ]
  },
  {
   "cell_type": "code",
   "execution_count": null,
   "id": "70541d3c",
   "metadata": {},
   "outputs": [],
   "source": [
    "import nltk\n",
    "nltk.download('stopwords')\n",
    "# print(stopwords.words(fileids='english'))"
   ]
  },
  {
   "cell_type": "markdown",
   "id": "91d9988a",
   "metadata": {},
   "source": [
    "### Data pre-processing"
   ]
  },
  {
   "cell_type": "markdown",
   "id": "72cbca1f",
   "metadata": {},
   "source": [
    "#### Loading the dataset"
   ]
  },
  {
   "cell_type": "code",
   "execution_count": null,
   "id": "6acd6883",
   "metadata": {},
   "outputs": [],
   "source": [
    "news_dataset =  pd.read_csv('train.csv')\n",
    "news_dataset.shape"
   ]
  },
  {
   "cell_type": "markdown",
   "id": "7477e6d9",
   "metadata": {},
   "source": [
    "#### Data analysis"
   ]
  },
  {
   "cell_type": "code",
   "execution_count": null,
   "id": "7997a84c",
   "metadata": {},
   "outputs": [],
   "source": [
    "news_dataset.head()"
   ]
  },
  {
   "cell_type": "markdown",
   "id": "762fee02",
   "metadata": {},
   "source": [
    "Either we can impute the dataset or we can remove the rows with null values"
   ]
  },
  {
   "cell_type": "markdown",
   "id": "7de24685",
   "metadata": {},
   "source": [
    "In first approach, we use title and author to check for fake news and just impute with empty string"
   ]
  },
  {
   "cell_type": "code",
   "execution_count": null,
   "id": "6b1a9e5d",
   "metadata": {},
   "outputs": [],
   "source": [
    "# news_dataset.dropna(inplace=True)\n",
    "news_dataset = news_dataset.fillna('')\n",
    "news_dataset.isna().sum()"
   ]
  },
  {
   "cell_type": "markdown",
   "id": "e821b63f",
   "metadata": {},
   "source": [
    "In this second approach, 'text' is the most important column, so we remove rows with null 'text' and impute the other columns"
   ]
  },
  {
   "cell_type": "code",
   "execution_count": null,
   "id": "7f89faef",
   "metadata": {},
   "outputs": [],
   "source": [
    "# Imputation\n",
    "news_dataset['title'].fillna(\"Unknown Title\", inplace=True)\n",
    "news_dataset['author'].fillna(\"Anonymous\", inplace=True)\n",
    "\n",
    "# Drop rows with missing 'text', as it's a critical feature\n",
    "news_dataset.dropna(subset=['text'], inplace=True)"
   ]
  }
 ],
 "metadata": {
  "kernelspec": {
   "display_name": "Python 3",
   "language": "python",
   "name": "python3"
  },
  "language_info": {
   "codemirror_mode": {
    "name": "ipython",
    "version": 3
   },
   "file_extension": ".py",
   "mimetype": "text/x-python",
   "name": "python",
   "nbconvert_exporter": "python",
   "pygments_lexer": "ipython3",
   "version": "3.10.11"
  }
 },
 "nbformat": 4,
 "nbformat_minor": 5
}
